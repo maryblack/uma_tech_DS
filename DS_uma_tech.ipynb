{
 "cells": [
  {
   "cell_type": "markdown",
   "metadata": {},
   "source": [
    "#### Установка зависимостей"
   ]
  },
  {
   "cell_type": "code",
   "execution_count": null,
   "metadata": {},
   "outputs": [],
   "source": [
    "!pip install -r requirements.txt"
   ]
  },
  {
   "cell_type": "code",
   "execution_count": 1,
   "metadata": {},
   "outputs": [],
   "source": [
    "import numpy as np\n",
    "import pandas as pd\n",
    "import xgboost as xgb\n",
    "from sklearn.metrics import roc_auc_score\n",
    "import warnings\n",
    "warnings.filterwarnings(\"ignore\")\n",
    "from sklearn.linear_model import LogisticRegression\n",
    "from sklearn.preprocessing import StandardScaler\n",
    "from sklearn.model_selection import KFold\n",
    "from sklearn.model_selection import cross_val_score\n",
    "import lightgbm as lgbm\n",
    "import datetime\n",
    "from sklearn.model_selection import train_test_split, GridSearchCV"
   ]
  },
  {
   "cell_type": "code",
   "execution_count": 2,
   "metadata": {},
   "outputs": [
    {
     "name": "stdout",
     "output_type": "stream",
     "text": [
      "Archive:  TRAIN_PREPARED.csv.zip\n",
      "  inflating: ./TRAIN_PREPARED.csv    \n",
      "   creating: ./__MACOSX/\n",
      "  inflating: ./__MACOSX/._TRAIN_PREPARED.csv  \n"
     ]
    }
   ],
   "source": [
    "!unzip TRAIN_PREPARED.csv.zip -d ."
   ]
  },
  {
   "cell_type": "code",
   "execution_count": 3,
   "metadata": {},
   "outputs": [],
   "source": [
    "TRAIN_PREPARED = 'TRAIN_PREPARED.csv'\n",
    "TEST_PREPARED = 'TEST_PREPARED.csv'\n",
    "TRAIN_ADDITIONAL = 'TRAIN_ADDITIONAL_DATA.csv'\n",
    "TEST_ADDITIONAL = 'TEST_ADDITIONAL_DATA.csv'"
   ]
  },
  {
   "cell_type": "code",
   "execution_count": 214,
   "metadata": {},
   "outputs": [],
   "source": [
    "def preprocessing_train(filename):\n",
    "    df = pd.read_csv(filename)\n",
    "    df = df.set_index('user')\n",
    "    Y_train = df['label']\n",
    "    X_train = df.drop('label', axis=1)\n",
    "    X_train = X_train.drop(['cut_date', 'first_date', 'last_date'], axis=1)\n",
    "    \n",
    "    return X_train, Y_train\n",
    "\n",
    "def preprocessing_test(filename):\n",
    "    df = pd.read_csv(filename)\n",
    "    df = df.set_index('user')\n",
    "    X_test = df.drop(['cut_date', 'first_date', 'last_date'], axis=1)\n",
    "    \n",
    "    return X_test\n",
    "\n",
    "\n",
    "def xgb_model(X_train, Y_train, baseline=False):\n",
    "    # данные параметры подобраны с помощью GridSearchCV\n",
    "                                 \n",
    "    if baseline:\n",
    "        xgb_clf = xgb.XGBClassifier(objective=\"binary:hinge\",\n",
    "                                nthread=4, \n",
    "                                seed=42)\n",
    "    else:\n",
    "        xgb_clf = xgb.XGBClassifier(objective=\"binary:hinge\",\n",
    "                                    nthread=4, \n",
    "                                    seed=42,\n",
    "                                    gamma=0.01,\n",
    "                                    learning_rate=0.01,\n",
    "                                    max_depth=7,\n",
    "                                    n_estimators=100,\n",
    "                                    reg_lambda=0.01)\n",
    "        \n",
    "    xgb_clf.fit(X_train, Y_train)\n",
    "    Y_pred = xgb_clf.predict(X_train)\n",
    "    \n",
    "    print(f'Train score:{roc_auc_score(Y_train, Y_pred)}')\n",
    "\n",
    "    return xgb_clf\n",
    "\n",
    "def lgbm_model(X_train, Y_train, baseline=False):\n",
    "    d_train = lgbm.Dataset(X_train, Y_train)\n",
    "\n",
    "    params = {\n",
    "        'objective' :'binary',\n",
    "        'learning_rate' : 0.1,\n",
    "        'num_leaves' : 76,\n",
    "        'feature_fraction': 0.64, \n",
    "        'bagging_fraction': 0.8, \n",
    "        'bagging_freq':1,\n",
    "        'boosting_type' : 'gbdt',\n",
    "        'metric': 'roc_auc'\n",
    "    }\n",
    "    \n",
    "    params_init = {\n",
    "        'objective' :'binary',\n",
    "        'learning_rate' : 0.1,\n",
    "        'bagging_freq':1,\n",
    "        'boosting_type' : 'gbdt',\n",
    "        'metric': 'roc_auc'\n",
    "    }\n",
    "    \n",
    "    if baseline:\n",
    "        bst = lgbm.train(params_init, d_train, 50, verbose_eval=50)\n",
    "    else:\n",
    "        bst = lgbm.train(params, d_train, 50, verbose_eval=50)\n",
    "        \n",
    "    Y_pred = bst.predict(X_train)\n",
    "    print(f'Train score:{roc_auc_score(Y_train, Y_pred)}')  \n",
    "\n",
    "    return bst\n",
    "\n",
    "def cvKfold(X,y):\n",
    "    kf = KFold(n_splits=5, random_state=1, shuffle=True)\n",
    "    kf.get_n_splits(X, y)\n",
    "    return kf\n",
    "\n",
    "def lr_model(X_train, y_train, C):\n",
    "    scaler = StandardScaler()\n",
    "    X_train = scaler.fit_transform(X_train)\n",
    "    regr = LogisticRegression(C = C,  random_state=241, n_jobs=-1)\n",
    "    kf = cvKfold(X_train, y_train)\n",
    "    cvs = cross_val_score(regr, X_train, y_train, scoring='roc_auc', cv=kf, n_jobs=-1)\n",
    "    cvs_val = cvs.mean()\n",
    "    print (f'C_regularization: {C}\\ncross-validation score: {cvs_val}')\n",
    "    \n",
    "def lr_model_best_c(X_train, y_train):\n",
    "    scaler = StandardScaler()\n",
    "    X_train = scaler.fit_transform(X_train)\n",
    "    regr = LogisticRegression(C = 0.1,  random_state=241, n_jobs=-1)\n",
    "    kf = cvKfold(X_train, y_train)\n",
    "    cvs = cross_val_score(regr, X_train, y_train, scoring='roc_auc', cv=kf, n_jobs=-1)\n",
    "    cvs_val = cvs.mean()\n",
    "    print (f'C_regularization: {0.1}\\ncross-validation score: {cvs_val}')\n",
    "    regr.fit(X_train, y_train)\n",
    "    \n",
    "    return regr\n",
    "    \n",
    "    \n",
    "def concat_answer(X_test, Y_pred_test):\n",
    "    X_index = pd.DataFrame(X_test.index)\n",
    "    Y_test = pd.DataFrame(Y_pred_test, columns=['prediction'])\n",
    "    result = pd.concat([X_index, Y_test], axis=1)\n",
    "    res_test = result.set_index('user')\n",
    "    \n",
    "    return res_test\n",
    "\n",
    "def predict_binary(X_test, model):\n",
    "    Y_pred = model.predict(X_test)\n",
    "    Y_pred_binary = np.where(Y_pred>0.5,1,0)\n",
    "    return Y_pred_binary\n"
   ]
  },
  {
   "cell_type": "code",
   "execution_count": 215,
   "metadata": {},
   "outputs": [],
   "source": [
    "def all_models(X_train, Y_train, baseline=False): #without additional data\n",
    "    #XGBoost\n",
    "    print('==========XGBoost==========')\n",
    "    xgb_clf = xgb_model(X_train, Y_train, baseline)\n",
    "    \n",
    "    #Logistic regression\n",
    "    print('==========Logistic regression==========')\n",
    "    logreg = lr_model_best_c(X_train, Y_train)\n",
    "    models = [xgb_clf, logreg] #models supporting probabilities\n",
    " \n",
    "     #LightGBM - best score for train = 0.8265\n",
    "    print('==========LightGBM==========')\n",
    "    lgbm_clf = lgbm_model(X_train, Y_train, baseline)\n"
   ]
  },
  {
   "cell_type": "code",
   "execution_count": 131,
   "metadata": {},
   "outputs": [
    {
     "name": "stdout",
     "output_type": "stream",
     "text": [
      "==========XGBoost==========\n",
      "Train score:0.5072214989888634\n",
      "==========Logistic regression==========\n",
      "C_regularization: 0.1\n",
      "cross-validation score: 0.6628781775590704\n",
      "==========LightGBM==========\n",
      "Train score:0.7547578705985554\n"
     ]
    }
   ],
   "source": [
    "X_train, Y_train = preprocessing_train(TRAIN_PREPARED)\n",
    "all_models(X_train=X_train, Y_train=Y_train, baseline=True)"
   ]
  },
  {
   "cell_type": "markdown",
   "metadata": {},
   "source": [
    "Baseline для LightGBM показал неплохое качество на обучающей выборке. Используем additional data и аггрегацию данных для лучшего результата"
   ]
  },
  {
   "cell_type": "code",
   "execution_count": 132,
   "metadata": {},
   "outputs": [],
   "source": [
    "def prep_additional_data(df_add):\n",
    "    df_add['trial'] = df_add['trial'].fillna(0).astype('int32')\n",
    "    d = {'CREATE': 1, 'DELETE': 0}\n",
    "    df_add['action'] = df_add['action'].fillna(0).map(d).astype('int32')\n",
    "    return df_add\n",
    "\n",
    "def last_action(df_add):\n",
    "    df_add_data = df_add.groupby('user')['calday'].agg('max')\n",
    "    df_last_date = pd.merge(df_add, df_add_data, on='user')\n",
    "    df_last = df_last_date[df_last_date['calday_x']==df_last_date['calday_y']].drop('calday_y', axis=1)\n",
    "    return df_last\n",
    "\n",
    "def last_known_day(df):\n",
    "    df_day = df.groupby('user')['days_to_end'].agg('min')\n",
    "    df_last_day_known = pd.merge(df, df_day, on='user')\n",
    "    users = df['user'].unique()\n",
    "    df_lday = df_last_day_known[df_last_day_known['days_to_end_x']==df_last_day_known['days_to_end_y']].drop('days_to_end_y', axis=1)\n",
    "    return df_lday\n",
    "\n",
    "def str_to_date(date: str):\n",
    "    return datetime.datetime.strptime(date, \"%Y-%m-%d %H:%M:%S\")\n"
   ]
  },
  {
   "cell_type": "code",
   "execution_count": 133,
   "metadata": {},
   "outputs": [],
   "source": [
    "def add_data(TRAIN_PREPARED, TRAIN_ADDITIONAL):\n",
    "    df = pd.read_csv(TRAIN_PREPARED)\n",
    "    df_add = pd.read_csv(TRAIN_ADDITIONAL)\n",
    "    df_add = prep_additional_data(df_add)\n",
    "    df_last = last_action(df_add)\n",
    "    df_lday = last_known_day(df)\n",
    "    df_last['bin_action'] = (df_last.action==1).astype('int32')\n",
    "    df_last['bin_trial'] = (df_last.trial==0).astype('int32')\n",
    "    df_add_prep = df_last.drop(['calday_x', 'action'], axis=1)\n",
    "    df_merged = pd.merge(df_lday, df_add_prep, on='user')\n",
    "    df_merged['delta'] = df_merged['last_date'].apply(str_to_date) - df_merged['first_date'].apply(str_to_date)\n",
    "    df_merged['delta'] = df_merged['delta'].apply(lambda x: x.days)\n",
    "    df_merged_prep = df_merged.drop(['cut_date', 'first_date', 'last_date'], axis=1).set_index('user')\n",
    "    \n",
    "    return df_merged_prep\n",
    "\n",
    "def extract_label(df):\n",
    "    Y_train = df['label']\n",
    "    X_train = df.drop(['label'], axis=1)\n",
    "    return X_train, Y_train\n",
    "    "
   ]
  },
  {
   "cell_type": "markdown",
   "metadata": {},
   "source": [
    "# ==========Исследование данных=========="
   ]
  },
  {
   "cell_type": "code",
   "execution_count": 134,
   "metadata": {},
   "outputs": [],
   "source": [
    "df = pd.read_csv(TRAIN_PREPARED)\n",
    "df_add = pd.read_csv(TRAIN_ADDITIONAL)"
   ]
  },
  {
   "cell_type": "code",
   "execution_count": 135,
   "metadata": {},
   "outputs": [],
   "source": [
    "df_add['trial'] = df_add['trial'].fillna(0).astype('int32')\n",
    "d = {'CREATE': 1, 'DELETE': 0}\n",
    "df_add['action'] = df_add['action'].fillna(0).map(d).astype('int32')\n",
    "df_add['churn'] = df_add['action']|df_add['trial']\n",
    "index_not_churn = df[df.label==0]['user'].unique()\n",
    "index_churn = df[df.label==1]['user'].unique()"
   ]
  },
  {
   "cell_type": "code",
   "execution_count": 136,
   "metadata": {},
   "outputs": [],
   "source": [
    "df_last = last_action(df_add)"
   ]
  },
  {
   "cell_type": "markdown",
   "metadata": {},
   "source": [
    "# Не уходят те, у кого последнее действие ('action') == 1, то есть 'CREATE'"
   ]
  },
  {
   "cell_type": "code",
   "execution_count": 137,
   "metadata": {},
   "outputs": [
    {
     "data": {
      "text/plain": [
       "1    0.96637\n",
       "0    0.03363\n",
       "Name: action, dtype: float64"
      ]
     },
     "execution_count": 137,
     "metadata": {},
     "output_type": "execute_result"
    }
   ],
   "source": [
    "df_last.set_index('user').loc[index_not_churn]['action'].value_counts(normalize=True)"
   ]
  },
  {
   "cell_type": "code",
   "execution_count": 138,
   "metadata": {},
   "outputs": [],
   "source": [
    "df_churn = df[df.label==1].groupby('user').agg('max')\n",
    "df_last_day = df[df.days_to_end==0]\n",
    "ind_nochurn = df_last_day[df_last_day.label==0]['user'].unique()\n",
    "ind_churn = df_last_day[df_last_day.label==1]['user'].unique()"
   ]
  },
  {
   "cell_type": "markdown",
   "metadata": {},
   "source": [
    "## - 90% тех, кто не пользовался пробным периодом, ушли. \n",
    "## - 94% тех, чье последнее действие CREATE, остались\n",
    "## - 83% тех, чье последнее действие DELETE, ушли.\n",
    "\n",
    "# Значит, если в последней записи у них action==0, trial==0, то они уйдут\n"
   ]
  },
  {
   "cell_type": "code",
   "execution_count": 139,
   "metadata": {
    "scrolled": true
   },
   "outputs": [
    {
     "data": {
      "text/plain": [
       "0    0.902271\n",
       "1    0.097729\n",
       "Name: trial, dtype: float64"
      ]
     },
     "execution_count": 139,
     "metadata": {},
     "output_type": "execute_result"
    }
   ],
   "source": [
    "df_last.set_index('user').loc[ind_churn]['trial'].value_counts(normalize=True)"
   ]
  },
  {
   "cell_type": "code",
   "execution_count": 140,
   "metadata": {},
   "outputs": [
    {
     "data": {
      "text/plain": [
       "0    0.833739\n",
       "1    0.166261\n",
       "Name: action, dtype: float64"
      ]
     },
     "execution_count": 140,
     "metadata": {},
     "output_type": "execute_result"
    }
   ],
   "source": [
    "df_last.set_index('user').loc[ind_churn]['action'].value_counts(normalize=True)"
   ]
  },
  {
   "cell_type": "code",
   "execution_count": 141,
   "metadata": {},
   "outputs": [
    {
     "data": {
      "text/plain": [
       "1    0.949402\n",
       "0    0.050598\n",
       "Name: action, dtype: float64"
      ]
     },
     "execution_count": 141,
     "metadata": {},
     "output_type": "execute_result"
    }
   ],
   "source": [
    "df_last.set_index('user').loc[ind_nochurn]['action'].value_counts(normalize=True)"
   ]
  },
  {
   "cell_type": "code",
   "execution_count": 142,
   "metadata": {},
   "outputs": [
    {
     "data": {
      "text/plain": [
       "0    0.504113\n",
       "1    0.495887\n",
       "Name: trial, dtype: float64"
      ]
     },
     "execution_count": 142,
     "metadata": {},
     "output_type": "execute_result"
    }
   ],
   "source": [
    "df_last.set_index('user').loc[ind_nochurn]['trial'].value_counts(normalize=True)"
   ]
  },
  {
   "cell_type": "markdown",
   "metadata": {},
   "source": [
    "# Тут данные только за последний известный день для пользователей\n",
    "## - 73% тех, кто не пользовался пробным периодом, ушли. \n",
    "## - 96% тех, чье последнее действие CREATE, остались\n",
    "\n",
    "# Значит, если в последней записи у них trial==0, то они скорее всего уйдут"
   ]
  },
  {
   "cell_type": "code",
   "execution_count": 143,
   "metadata": {},
   "outputs": [],
   "source": [
    "df_lday = last_known_day(df)"
   ]
  },
  {
   "cell_type": "code",
   "execution_count": 144,
   "metadata": {},
   "outputs": [],
   "source": [
    "ind_nochurn = df_lday[df_lday.label==0]['user'].unique()\n",
    "ind_churn = df_lday[df_lday.label==1]['user'].unique()"
   ]
  },
  {
   "cell_type": "code",
   "execution_count": 145,
   "metadata": {},
   "outputs": [
    {
     "data": {
      "text/plain": [
       "1    0.96637\n",
       "0    0.03363\n",
       "Name: action, dtype: float64"
      ]
     },
     "execution_count": 145,
     "metadata": {},
     "output_type": "execute_result"
    }
   ],
   "source": [
    "df_last.set_index('user').loc[ind_nochurn]['action'].value_counts(normalize=True)"
   ]
  },
  {
   "cell_type": "code",
   "execution_count": 146,
   "metadata": {},
   "outputs": [
    {
     "data": {
      "text/plain": [
       "0    0.732392\n",
       "1    0.267608\n",
       "Name: trial, dtype: float64"
      ]
     },
     "execution_count": 146,
     "metadata": {},
     "output_type": "execute_result"
    }
   ],
   "source": [
    "df_last.set_index('user').loc[ind_churn]['trial'].value_counts(normalize=True)"
   ]
  },
  {
   "cell_type": "markdown",
   "metadata": {},
   "source": [
    "# ==========Изменение score после feature engineering=========="
   ]
  },
  {
   "cell_type": "code",
   "execution_count": 147,
   "metadata": {},
   "outputs": [],
   "source": [
    "df_merged_prep = add_data(TRAIN_PREPARED, TRAIN_ADDITIONAL)\n",
    "X_train, Y_train = extract_label(df_merged_prep)"
   ]
  },
  {
   "cell_type": "markdown",
   "metadata": {},
   "source": [
    "Поработали с данными, посмотрим, как изменилось качество"
   ]
  },
  {
   "cell_type": "code",
   "execution_count": 148,
   "metadata": {},
   "outputs": [
    {
     "name": "stdout",
     "output_type": "stream",
     "text": [
      "==========XGBoost==========\n",
      "Train score:0.7311641673813236\n",
      "==========Logistic regression==========\n",
      "C_regularization: 0.1\n",
      "cross-validation score: 0.857720205509416\n",
      "==========LightGBM==========\n",
      "Train score:0.9196112128421291\n"
     ]
    }
   ],
   "source": [
    "all_models(X_train, Y_train, baseline=True)"
   ]
  },
  {
   "cell_type": "markdown",
   "metadata": {},
   "source": [
    "### Качество ощутимо улучшилось. Для проверки разобьем обучающую выборку на обучающую и валидационную и посмотрим качество"
   ]
  },
  {
   "cell_type": "code",
   "execution_count": 209,
   "metadata": {},
   "outputs": [],
   "source": [
    "X_train_new, X_test_new, Y_train_new, Y_test_new = train_test_split(X_train, Y_train, test_size=0.3, random_state=0)"
   ]
  },
  {
   "cell_type": "code",
   "execution_count": 210,
   "metadata": {},
   "outputs": [
    {
     "name": "stdout",
     "output_type": "stream",
     "text": [
      "Train score:0.7306522019705588\n",
      "Test score:0.7320923570183101\n"
     ]
    }
   ],
   "source": [
    "xgb_clf = xgb_model(X_train=X_train_new, Y_train=Y_train_new, baseline=True)\n",
    "Y_pred_new = predict_binary(X_test_new, xgb_clf)\n",
    "print(f'Test score:{roc_auc_score(Y_test_new, Y_pred_new)}')"
   ]
  },
  {
   "cell_type": "markdown",
   "metadata": {},
   "source": [
    "### Колоссальное различие значений метрики на train и test говорит о том, что логистическая регрессия не подходит, поэтому подбирать для нее параметры не будем"
   ]
  },
  {
   "cell_type": "code",
   "execution_count": 211,
   "metadata": {},
   "outputs": [
    {
     "name": "stdout",
     "output_type": "stream",
     "text": [
      "C_regularization: 0.1\n",
      "cross-validation score: 0.8541783202188291\n",
      "Test score:0.5781939745044296\n"
     ]
    }
   ],
   "source": [
    "lr_clf = lr_model_best_c(X_train_new, Y_train_new)\n",
    "Y_pred_new = predict_binary(X_test_new, lr_clf)\n",
    "print(f'Test score:{roc_auc_score(Y_test_new, Y_pred_new)}')"
   ]
  },
  {
   "cell_type": "markdown",
   "metadata": {},
   "source": [
    "### LightGBM показыват более высокое качество на тестовой выборке относительно XGBoost, но XGBoost дает небольшой разброс на тестовой и обучающей выборке"
   ]
  },
  {
   "cell_type": "code",
   "execution_count": 212,
   "metadata": {},
   "outputs": [
    {
     "name": "stdout",
     "output_type": "stream",
     "text": [
      "Train score:0.9306140423117575\n",
      "Test score:0.8724303903095859\n"
     ]
    }
   ],
   "source": [
    "lgbm_clf = lgbm_model(X_train=X_train_new, Y_train=Y_train_new, baseline=True)\n",
    "Y_pred_new = lgbm_clf.predict(X_test_new)\n",
    "print(f'Test score:{roc_auc_score(Y_test_new, Y_pred_new)}')"
   ]
  },
  {
   "cell_type": "markdown",
   "metadata": {},
   "source": [
    "# ==========Учет feature importances==========\n",
    "Уберем колонки с небольшой значимостью, для ускорения вычислений"
   ]
  },
  {
   "cell_type": "code",
   "execution_count": 158,
   "metadata": {},
   "outputs": [],
   "source": [
    "import matplotlib.pyplot as plt"
   ]
  },
  {
   "cell_type": "code",
   "execution_count": 159,
   "metadata": {},
   "outputs": [],
   "source": [
    "def extract_features(feature_importances, min_score=0.01):\n",
    "    column_slice = np.where(feature_importances > min_score)\n",
    "    return column_slice\n",
    "\n",
    "def reduced_data(X, importatnt_features):\n",
    "    X_reduced = X.iloc[:, list(importatnt_features[0])]\n",
    "    return X_reduced"
   ]
  },
  {
   "cell_type": "code",
   "execution_count": 160,
   "metadata": {},
   "outputs": [],
   "source": [
    "def plot_fi(feature_importances, features):\n",
    "    plt.figure(figsize=(20, 6))\n",
    "    plt.yscale('log', nonposy='clip')\n",
    "    plt.bar(range(len(feature_importances)), feature_importances, align='center')\n",
    "    plt.xticks(range(len(feature_importances)), features, rotation='vertical')\n",
    "    plt.title('Feature importance')\n",
    "    plt.ylabel('Importance')\n",
    "    plt.xlabel('Features')\n",
    "    plt.show()"
   ]
  },
  {
   "cell_type": "code",
   "execution_count": 161,
   "metadata": {},
   "outputs": [],
   "source": [
    "feature_importances = xgb_clf.feature_importances_"
   ]
  },
  {
   "cell_type": "code",
   "execution_count": 162,
   "metadata": {},
   "outputs": [],
   "source": [
    "important_features = extract_features(feature_importances, 0.005)\n",
    "X_train_reduced = reduced_data(X_train_new, important_features)\n",
    "X_test_reduced = reduced_data(X_test_new, important_features)"
   ]
  },
  {
   "cell_type": "code",
   "execution_count": 163,
   "metadata": {},
   "outputs": [
    {
     "data": {
      "image/png": "[encoded data removed]",
      "text/plain": [
       "<Figure size 1440x432 with 1 Axes>"
      ]
     },
     "metadata": {
      "needs_background": "light"
     },
     "output_type": "display_data"
    }
   ],
   "source": [
    "plot_fi(feature_importances[important_features[0]], X_train_reduced.columns)"
   ]
  },
  {
   "cell_type": "markdown",
   "metadata": {},
   "source": [
    "Качество незначительно ухудшилось, а скорость выполнения заметно возросла"
   ]
  },
  {
   "cell_type": "code",
   "execution_count": 164,
   "metadata": {},
   "outputs": [
    {
     "name": "stdout",
     "output_type": "stream",
     "text": [
      "==========XGBoost==========\n",
      "Train score:0.7306330699861474\n",
      "==========Logistic regression==========\n",
      "C_regularization: 0.1\n",
      "cross-validation score: 0.8565927076195392\n",
      "==========LightGBM==========\n",
      "Train score:0.919439042584617\n"
     ]
    }
   ],
   "source": [
    "all_models(X_train_reduced, Y_train_new, baseline=True)"
   ]
  },
  {
   "cell_type": "code",
   "execution_count": 213,
   "metadata": {},
   "outputs": [
    {
     "name": "stdout",
     "output_type": "stream",
     "text": [
      "Train score:0.919439042584617\n",
      "Test score:0.8692779573868994\n"
     ]
    }
   ],
   "source": [
    "lgbm_clf = lgbm_model(X_train_reduced, Y_train_new, baseline=True)\n",
    "Y_pred_new = lgbm_clf.predict(X_test_reduced)\n",
    "print(f'Test score:{roc_auc_score(Y_test_new, Y_pred_new)}')"
   ]
  },
  {
   "cell_type": "code",
   "execution_count": 168,
   "metadata": {},
   "outputs": [
    {
     "name": "stdout",
     "output_type": "stream",
     "text": [
      "Train score:0.7306330699861474\n",
      "Test score:0.7327006295243929\n"
     ]
    }
   ],
   "source": [
    "xgb_clf = xgb_model(X_train_reduced, Y_train_new, baseline=True)\n",
    "Y_pred_new = predict_binary(X_test_reduced, xgb_clf)\n",
    "print(f'Test score:{roc_auc_score(Y_test_new, Y_pred_new)}')"
   ]
  },
  {
   "cell_type": "markdown",
   "metadata": {},
   "source": [
    "# ==========Подбор параметров с помощью GridSearchCV=========="
   ]
  },
  {
   "cell_type": "markdown",
   "metadata": {},
   "source": [
    "*Очень долго считается*"
   ]
  },
  {
   "cell_type": "code",
   "execution_count": 29,
   "metadata": {},
   "outputs": [],
   "source": [
    "def report_best_scores(results, n_top=3):\n",
    "    for i in range(1, n_top + 1):\n",
    "        candidates = np.flatnonzero(results['rank_test_score'] == i)\n",
    "        for candidate in candidates:\n",
    "            print(\"Model with rank: {0}\".format(i))\n",
    "            print(\"Mean validation score: {0:.3f} (std: {1:.3f})\".format(\n",
    "                  results['mean_test_score'][candidate],\n",
    "                  results['std_test_score'][candidate]))\n",
    "            print(\"Parameters: {0}\".format(results['params'][candidate]))\n",
    "            print(\"\")"
   ]
  },
  {
   "cell_type": "code",
   "execution_count": 33,
   "metadata": {},
   "outputs": [
    {
     "data": {
      "text/plain": [
       "GridSearchCV(cv=None, error_score='raise',\n",
       "       estimator=XGBClassifier(base_score=0.5, booster='gbtree', colsample_bylevel=1,\n",
       "       colsample_bynode=1, colsample_bytree=1, gamma=0, learning_rate=0.1,\n",
       "       max_delta_step=0, max_depth=3, min_child_weight=1, missing=None,\n",
       "       n_estimators=100, n_jobs=1, nthread=4, objective='binary:hinge',\n",
       "       random_state=0, reg_alpha=0, reg_lambda=1, scale_pos_weight=1,\n",
       "       seed=42, silent=None, subsample=1, verbosity=1),\n",
       "       fit_params=None, iid=True, n_jobs=1,\n",
       "       param_grid={'gamma': [0.1, 0.01], 'learning_rate': [0.1, 0.01], 'reg_lambda': [0.1, 0.01], 'max_depth': range(2, 10), 'n_estimators': range(60, 180, 40)},\n",
       "       pre_dispatch='2*n_jobs', refit=True, return_train_score='warn',\n",
       "       scoring='roc_auc', verbose=0)"
      ]
     },
     "execution_count": 33,
     "metadata": {},
     "output_type": "execute_result"
    }
   ],
   "source": [
    "xgb_model = xgb.XGBClassifier(objective=\"binary:hinge\",\n",
    "                             nthread=4,\n",
    "                              seed=42)\n",
    "\n",
    "params = {'gamma':[0.1, 0.01],\n",
    "          'learning_rate': [0.1, 0.01],\n",
    "          'reg_lambda': [0.1, 0.01],\n",
    "          'max_depth': range (2, 10, 1),\n",
    "          'n_estimators': range(60, 180, 40),\n",
    "         }\n",
    "\n",
    "\n",
    "search = GridSearchCV(xgb_model, \n",
    "                      params, \n",
    "                      scoring='roc_auc')\n",
    "\n",
    "search.fit(X_train_reduced, Y_train_new)"
   ]
  },
  {
   "cell_type": "code",
   "execution_count": 34,
   "metadata": {},
   "outputs": [
    {
     "name": "stdout",
     "output_type": "stream",
     "text": [
      "Model with rank: 1\n",
      "Mean validation score: 0.772 (std: 0.008)\n",
      "Parameters: {'gamma': 0.01, 'learning_rate': 0.01, 'max_depth': 7, 'n_estimators': 100, 'reg_lambda': 0.01}\n",
      "\n"
     ]
    }
   ],
   "source": [
    "report_best_scores(search.cv_results_, 1)"
   ]
  },
  {
   "cell_type": "code",
   "execution_count": 126,
   "metadata": {},
   "outputs": [
    {
     "name": "stdout",
     "output_type": "stream",
     "text": [
      "Train score:0.7983211149408155\n",
      "Train binary score:0.7983211149408155\n",
      "Test score:0.7755729642533224\n"
     ]
    }
   ],
   "source": [
    "xgb_clf = xgb_model(X_train_reduced, Y_train_new)\n",
    "Y_pred_new = predict_binary(X_test_reduced, xgb_clf)\n",
    "print(f'Test score:{roc_auc_score(Y_test_new, Y_pred_new)}')"
   ]
  },
  {
   "cell_type": "markdown",
   "metadata": {},
   "source": [
    "Модели дают предсказание в долях вероятности, но целевая переменная содержит только `0` и `1`. Преобразуем вероятностный predict в бинарный и сравним `roc_auc_score`"
   ]
  },
  {
   "cell_type": "markdown",
   "metadata": {},
   "source": [
    "## XGBoost with objective=\"binary:logistic\""
   ]
  },
  {
   "cell_type": "code",
   "execution_count": 186,
   "metadata": {},
   "outputs": [
    {
     "name": "stdout",
     "output_type": "stream",
     "text": [
      "Train score:0.7583483953188004\n",
      "Test probability score:0.8679357696585531\n",
      "Test binary score:0.7380771895300154\n"
     ]
    }
   ],
   "source": [
    "xgb_clf = xgb.XGBClassifier(objective=\"binary:logistic\",\n",
    "                                    nthread=4, \n",
    "                                    seed=42,\n",
    "                                    gamma=0.01,\n",
    "                                    learning_rate=0.01,\n",
    "                                    max_depth=7,\n",
    "                                    n_estimators=100,\n",
    "                                    reg_lambda=0.01)\n",
    "        \n",
    "xgb_clf.fit(X_train_reduced, Y_train_new)\n",
    "Y_pred = xgb_clf.predict(X_train_reduced)\n",
    "print(f'Train score:{roc_auc_score(Y_train_new, Y_pred)}')\n",
    "\n",
    "# xgb_clf = xgb_model(X_train_reduced, Y_train_new)\n",
    "Y_pred_new = xgb_clf.predict(X_test_reduced)\n",
    "Y_pred_proba_new = xgb_clf.predict_proba(X_test_reduced)\n",
    "print(f'Test probability score:{roc_auc_score(Y_test_new, Y_pred_proba_new[:,1])}')\n",
    "print(f'Test binary score:{roc_auc_score(Y_test_new, Y_pred_new)}')"
   ]
  },
  {
   "cell_type": "markdown",
   "metadata": {},
   "source": [
    "## XGBoost with objective=\"binary:hinge\""
   ]
  },
  {
   "cell_type": "code",
   "execution_count": 197,
   "metadata": {},
   "outputs": [
    {
     "name": "stdout",
     "output_type": "stream",
     "text": [
      "Train score:0.7983211149408155\n",
      "Test probability score:0.7755729642533224\n",
      "Test binary score:0.7755729642533224\n"
     ]
    }
   ],
   "source": [
    "xgb_clf = xgb.XGBClassifier(objective=\"binary:hinge\",\n",
    "                                    nthread=4, \n",
    "                                    seed=42,\n",
    "                                    gamma=0.01,\n",
    "                                    learning_rate=0.01,\n",
    "                                    max_depth=7,\n",
    "                                    n_estimators=100,\n",
    "                                    reg_lambda=0.01)\n",
    "        \n",
    "xgb_clf.fit(X_train_reduced, Y_train_new)\n",
    "Y_pred = xgb_clf.predict(X_train_reduced)\n",
    "print(f'Train score:{roc_auc_score(Y_train_new, Y_pred)}')\n",
    "\n",
    "# xgb_clf = xgb_model(X_train_reduced, Y_train_new)\n",
    "Y_pred_new = xgb_clf.predict(X_test_reduced)\n",
    "Y_pred_proba_new = xgb_clf.predict_proba(X_test_reduced)\n",
    "print(f'Test probability score:{roc_auc_score(Y_test_new, Y_pred_proba_new[:,1])}')\n",
    "print(f'Test binary score:{roc_auc_score(Y_test_new, Y_pred_new)}')"
   ]
  },
  {
   "cell_type": "code",
   "execution_count": 188,
   "metadata": {},
   "outputs": [
    {
     "name": "stdout",
     "output_type": "stream",
     "text": [
      "Train score:0.919439042584617\n",
      "Test probability score:0.8692779573868994\n",
      "Test binary score:0.7469628209118565\n"
     ]
    }
   ],
   "source": [
    "lgbm_clf = lgbm_model(X_train_reduced, Y_train_new, baseline=True)\n",
    "Y_pred_new = predict_binary(X_test_reduced, lgbm_clf)\n",
    "Y_pred_proba_new = lgbm_clf.predict(X_test_reduced)\n",
    "print(f'Test probability score:{roc_auc_score(Y_test_new, Y_pred_proba_new)}')\n",
    "print(f'Test binary score:{roc_auc_score(Y_test_new, Y_pred_new)}')"
   ]
  },
  {
   "cell_type": "markdown",
   "metadata": {},
   "source": [
    "## В итоге будем использовать: \n",
    "### - LightGBM с первоначальными параметрами для probability submission ('prediction' $\\in$ [0, 1])\n",
    "### - XGBoost c подобранными GridSearch параметрами для binary submission ('prediction'={0, 1})"
   ]
  },
  {
   "cell_type": "markdown",
   "metadata": {},
   "source": [
    "# Оформление sumbission"
   ]
  },
  {
   "cell_type": "code",
   "execution_count": 205,
   "metadata": {},
   "outputs": [],
   "source": [
    "def make_submission(X_test, Y_pred, prob=False):\n",
    "    X_index = pd.DataFrame(X_test.index)\n",
    "    y_pred = pd.DataFrame(Y_pred, columns=['prediction'])\n",
    "    result = pd.concat([X_index, y_pred], axis=1)\n",
    "    res = result.set_index('user')\n",
    "    if prob:\n",
    "        res.apply(lambda x: round(x,3)).to_csv('submission_proba.csv')\n",
    "    else:\n",
    "        res.to_csv('submission.csv')"
   ]
  },
  {
   "cell_type": "code",
   "execution_count": 206,
   "metadata": {},
   "outputs": [],
   "source": [
    "def final_model(TRAIN_PREPARED, TRAIN_ADDITIONAL, TEST_PREPARED, TEST_ADDITIONAL):\n",
    "    #prepare data\n",
    "    df_merged_prep = add_data(TRAIN_PREPARED, TRAIN_ADDITIONAL)\n",
    "    X_train, Y_train = extract_label(df_merged_prep)\n",
    "    X_test = add_data(TEST_PREPARED, TEST_ADDITIONAL)\n",
    "    \n",
    "    #delete features\n",
    "    lgbm_clf = lgbm_model(X_train, Y_train, baseline=True)\n",
    "    feature_importances = lgbm_clf.feature_importance()\n",
    "    important_features = extract_features(feature_importances, 0.005)\n",
    "    X_train_reduced = reduced_data(X_train, important_features)\n",
    "    X_test_reduced = reduced_data(X_test, important_features)\n",
    "    \n",
    "    #predict probability\n",
    "    lgbm_clf = lgbm_model(X_train_reduced, Y_train, baseline=True)\n",
    "    Y_pred = lgbm_clf.predict(X_test_reduced)\n",
    "    make_submission(X_test_reduced, Y_pred, prob=True)\n",
    "    \n",
    "    #predict binary\n",
    "    xgb_clf = xgb_model(X_train_reduced, Y_train)\n",
    "    Y_pred_new = xgb_clf.predict(X_test_reduced)\n",
    "    make_submission(X_test_reduced, Y_pred_new)\n",
    "    \n",
    "    return Y_pred"
   ]
  },
  {
   "cell_type": "code",
   "execution_count": 207,
   "metadata": {},
   "outputs": [
    {
     "name": "stdout",
     "output_type": "stream",
     "text": [
      "Train score:0.9196112128421291\n",
      "Train score:0.9196112128421291\n",
      "Train score:0.7984018788874797\n"
     ]
    }
   ],
   "source": [
    "Y_pred = final_model(TRAIN_PREPARED, TRAIN_ADDITIONAL, TEST_PREPARED, TEST_ADDITIONAL)"
   ]
  },
  {
   "cell_type": "markdown",
   "metadata": {},
   "source": [
    "# Результат с вероятностями в файле `'submission_proba.csv'`\n",
    "# Результат с бинарными значениями {0,1} в файле `'submission.csv'`"
   ]
  }
 ],
 "metadata": {
  "kernelspec": {
   "display_name": "Python 3",
   "language": "python",
   "name": "python3"
  },
  "language_info": {
   "codemirror_mode": {
    "name": "ipython",
    "version": 3
   },
   "file_extension": ".py",
   "mimetype": "text/x-python",
   "name": "python",
   "nbconvert_exporter": "python",
   "pygments_lexer": "ipython3",
   "version": "3.7.3"
  }
 },
 "nbformat": 4,
 "nbformat_minor": 2
}
